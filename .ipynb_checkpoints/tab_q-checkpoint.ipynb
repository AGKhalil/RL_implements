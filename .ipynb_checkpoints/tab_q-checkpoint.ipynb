{
 "cells": [
  {
   "cell_type": "code",
   "execution_count": 184,
   "metadata": {},
   "outputs": [],
   "source": [
    "import os\n",
    "import cv2\n",
    "import time\n",
    "import numpy as np\n",
    "from tqdm import tqdm\n",
    "import gym\n",
    "import copy\n",
    "import matplotlib.pyplot as plt\n",
    "from scipy.special import softmax\n",
    "%matplotlib inline"
   ]
  },
  {
   "cell_type": "code",
   "execution_count": 200,
   "metadata": {},
   "outputs": [],
   "source": [
    "def get_action_eps(obs):\n",
    "    if np.random.rand() < epsilon:\n",
    "        return env.action_space.sample()\n",
    "    else:\n",
    "        return np.argmax(Q[obs, :])\n",
    "    \n",
    "def get_action_softmax(obs):\n",
    "    m = softmax(Q[obs, :])\n",
    "    return np.random.choice(env.action_space.n, p=m)"
   ]
  },
  {
   "cell_type": "code",
   "execution_count": 201,
   "metadata": {},
   "outputs": [
    {
     "data": {
      "text/plain": [
       "0.3090343146345761"
      ]
     },
     "execution_count": 201,
     "metadata": {},
     "output_type": "execute_result"
    }
   ],
   "source": [
    "np.sum(np.exp(Q[0,:])/15)"
   ]
  },
  {
   "cell_type": "code",
   "execution_count": 202,
   "metadata": {},
   "outputs": [
    {
     "data": {
      "text/plain": [
       "4.039470076427097"
      ]
     },
     "execution_count": 202,
     "metadata": {},
     "output_type": "execute_result"
    }
   ],
   "source": [
    "np.exp(Q[0,0]/15) + np.exp(Q[0,1]/15) + np.exp(Q[0,2]/15) + np.exp(Q[0,3]/15)"
   ]
  },
  {
   "cell_type": "code",
   "execution_count": 203,
   "metadata": {},
   "outputs": [
    {
     "data": {
      "text/plain": [
       "1.0"
      ]
     },
     "execution_count": 203,
     "metadata": {},
     "output_type": "execute_result"
    }
   ],
   "source": [
    "np.sum([np.exp(i/T) / np.sum([np.exp(i/T) for i in Q[obs]]) for i in Q[obs, :]])"
   ]
  },
  {
   "cell_type": "code",
   "execution_count": 204,
   "metadata": {},
   "outputs": [],
   "source": [
    "env = gym.make(\"FrozenLake-v0\")\n",
    "act_space = env.action_space.n"
   ]
  },
  {
   "cell_type": "code",
   "execution_count": 249,
   "metadata": {},
   "outputs": [
    {
     "name": "stderr",
     "output_type": "stream",
     "text": [
      "100%|██████████| 10000/10000 [00:11<00:00, 906.98it/s]\n"
     ]
    }
   ],
   "source": [
    "Q = np.zeros([env.observation_space.n, env.action_space.n])\n",
    "n = np.zeros([env.observation_space.n])\n",
    "EPISODES = 10000\n",
    "rew_list = []\n",
    "step_list = []\n",
    "alpha = 0.05\n",
    "gamma = 0.95\n",
    "epsilon = 1\n",
    "T = 15\n",
    "eps_list  = []\n",
    "entropyln = []\n",
    "for episode in tqdm(range(0, EPISODES)):\n",
    "    done = False\n",
    "    obs = env.reset()\n",
    "    episode_rew = 0\n",
    "    episode_steps = 0\n",
    "    while not done:\n",
    "        n[obs] += 1 \n",
    "        act = get_action_eps(obs)\n",
    "#         act = get_action_softmax(obs)\n",
    "        new_obs, rew, done, _ = env.step(act)\n",
    "        episode_rew += rew\n",
    "        episode_steps += 1\n",
    "        Q[obs, act] = Q[obs, act] + alpha * (rew + gamma * np.max(Q[new_obs, :]) - Q[obs, act])\n",
    "        obs = new_obs\n",
    "    epsilon = 0.999 * epsilon\n",
    "    rew_list.append(rew)\n",
    "    step_list.append(episode_steps)\n",
    "    eps_list.append(epsilon)\n",
    "    mu = n / np.sum(n)\n",
    "    mu = [i for i in mu if i != 0]\n",
    "    if len(mu) > 10:\n",
    "        entropyln.append(-np.sum(mu * np.log(mu)))"
   ]
  },
  {
   "cell_type": "code",
   "execution_count": 251,
   "metadata": {},
   "outputs": [
    {
     "data": {
      "text/plain": [
       "[<matplotlib.lines.Line2D at 0x1446c1c50>]"
      ]
     },
     "execution_count": 251,
     "metadata": {},
     "output_type": "execute_result"
    },
    {
     "data": {
      "image/png": "[encoded data removed]",
      "text/plain": [
       "<Figure size 432x288 with 1 Axes>"
      ]
     },
     "metadata": {
      "needs_background": "light"
     },
     "output_type": "display_data"
    }
   ],
   "source": [
    "plt.plot(entropyln)"
   ]
  },
  {
   "cell_type": "code",
   "execution_count": 254,
   "metadata": {},
   "outputs": [
    {
     "data": {
      "text/plain": [
       "[<matplotlib.lines.Line2D at 0x144c34128>]"
      ]
     },
     "execution_count": 254,
     "metadata": {},
     "output_type": "execute_result"
    },
    {
     "data": {
      "image/png": "[encoded data removed]",
      "text/plain": [
       "<Figure size 432x288 with 1 Axes>"
      ]
     },
     "metadata": {
      "needs_background": "light"
     },
     "output_type": "display_data"
    }
   ],
   "source": [
    "plt.plot(rew_list)"
   ]
  },
  {
   "cell_type": "code",
   "execution_count": 255,
   "metadata": {},
   "outputs": [
    {
     "data": {
      "text/plain": [
       "[<matplotlib.lines.Line2D at 0x144ead208>]"
      ]
     },
     "execution_count": 255,
     "metadata": {},
     "output_type": "execute_result"
    },
    {
     "data": {
      "image/png": "[encoded data removed]",
      "text/plain": [
       "<Figure size 432x288 with 1 Axes>"
      ]
     },
     "metadata": {
      "needs_background": "light"
     },
     "output_type": "display_data"
    }
   ],
   "source": [
    "plt.plot(step_list)"
   ]
  },
  {
   "cell_type": "code",
   "execution_count": 208,
   "metadata": {},
   "outputs": [
    {
     "data": {
      "text/plain": [
       "[<matplotlib.lines.Line2D at 0x1401ad080>]"
      ]
     },
     "execution_count": 208,
     "metadata": {},
     "output_type": "execute_result"
    },
    {
     "data": {
      "image/png": "[encoded data removed]",
      "text/plain": [
       "<Figure size 432x288 with 1 Axes>"
      ]
     },
     "metadata": {
      "needs_background": "light"
     },
     "output_type": "display_data"
    }
   ],
   "source": [
    "plt.plot(eps_list)"
   ]
  },
  {
   "cell_type": "code",
   "execution_count": 209,
   "metadata": {},
   "outputs": [
    {
     "name": "stderr",
     "output_type": "stream",
     "text": [
      "100%|██████████| 100/100 [00:00<00:00, 953.68it/s]\n"
     ]
    },
    {
     "data": {
      "text/plain": [
       "0.66"
      ]
     },
     "execution_count": 209,
     "metadata": {},
     "output_type": "execute_result"
    }
   ],
   "source": [
    "tot_per = []\n",
    "\n",
    "for ep in tqdm(range(0, 100)):\n",
    "    done = False\n",
    "    obs = env.reset()\n",
    "    tot_rew = 0\n",
    "    while not done:\n",
    "        act = np.argmax(Q[obs])\n",
    "        obs, rew, done, _ = env.step(act)\n",
    "        tot_rew += rew\n",
    "#         env.render()\n",
    "    tot_per.append(tot_rew)\n",
    "np.mean(tot_per)"
   ]
  },
  {
   "cell_type": "code",
   "execution_count": 112,
   "metadata": {},
   "outputs": [
    {
     "data": {
      "text/plain": [
       "array([[0.17736334, 0.14412379, 0.14835362, 0.14667195],\n",
       "       [0.07767605, 0.08340313, 0.07827215, 0.15435415],\n",
       "       [0.1694714 , 0.11826521, 0.11698686, 0.10229236],\n",
       "       [0.04417861, 0.04414925, 0.04890196, 0.11488017],\n",
       "       [0.2026198 , 0.12639418, 0.14012744, 0.12625163],\n",
       "       [0.        , 0.        , 0.        , 0.        ],\n",
       "       [0.08265878, 0.08658794, 0.18734123, 0.03558732],\n",
       "       [0.        , 0.        , 0.        , 0.        ],\n",
       "       [0.12829568, 0.19340843, 0.18131974, 0.26305872],\n",
       "       [0.22744677, 0.37286036, 0.28189327, 0.22456593],\n",
       "       [0.42236792, 0.27426534, 0.20499917, 0.1604985 ],\n",
       "       [0.        , 0.        , 0.        , 0.        ],\n",
       "       [0.        , 0.        , 0.        , 0.        ],\n",
       "       [0.23008222, 0.31429457, 0.52464936, 0.32514325],\n",
       "       [0.5358809 , 0.77191602, 0.53960639, 0.54139146],\n",
       "       [0.        , 0.        , 0.        , 0.        ]])"
      ]
     },
     "execution_count": 112,
     "metadata": {},
     "output_type": "execute_result"
    }
   ],
   "source": [
    "Q"
   ]
  },
  {
   "cell_type": "code",
   "execution_count": 185,
   "metadata": {},
   "outputs": [
    {
     "name": "stdout",
     "output_type": "stream",
     "text": [
      "  (Down)\n",
      "SFFF\n",
      "FHFH\n",
      "FFFH\n",
      "HFF\u001b[41mG\u001b[0m\n"
     ]
    }
   ],
   "source": [
    "env.render()"
   ]
  },
  {
   "cell_type": "code",
   "execution_count": null,
   "metadata": {},
   "outputs": [],
   "source": []
  }
 ],
 "metadata": {
  "kernelspec": {
   "display_name": "Python 3",
   "language": "python",
   "name": "python3"
  },
  "language_info": {
   "codemirror_mode": {
    "name": "ipython",
    "version": 3
   },
   "file_extension": ".py",
   "mimetype": "text/x-python",
   "name": "python",
   "nbconvert_exporter": "python",
   "pygments_lexer": "ipython3",
   "version": "3.6.9"
  }
 },
 "nbformat": 4,
 "nbformat_minor": 4
}
