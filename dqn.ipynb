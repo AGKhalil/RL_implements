{
  "nbformat": 4,
  "nbformat_minor": 0,
  "metadata": {
    "kernelspec": {
      "name": "python3",
      "display_name": "Python 3"
    },
    "language_info": {
      "codemirror_mode": {
        "name": "ipython",
        "version": 3
      },
      "file_extension": ".py",
      "mimetype": "text/x-python",
      "name": "python",
      "nbconvert_exporter": "python",
      "pygments_lexer": "ipython3",
      "version": "3.6.9"
    },
    "colab": {
      "name": "dqn.ipynb",
      "provenance": [],
      "collapsed_sections": [],
      "include_colab_link": true
    },
    "accelerator": "GPU"
  },
  "cells": [
    {
      "cell_type": "markdown",
      "metadata": {
        "id": "view-in-github",
        "colab_type": "text"
      },
      "source": [
        "<a href=\"https://colab.research.google.com/github/AGKhalil/RL_implements/blob/master/dqn.ipynb\" target=\"_parent\"><img src=\"https://colab.research.google.com/assets/colab-badge.svg\" alt=\"Open In Colab\"/></a>"
      ]
    },
    {
      "cell_type": "code",
      "metadata": {
        "id": "xFvoUhM_ECGA",
        "colab_type": "code",
        "colab": {}
      },
      "source": [
        "%%capture\n",
        "!pip install numpy tqdm gym matplotlib argparse torch wandb scipy"
      ],
      "execution_count": 0,
      "outputs": []
    },
    {
      "cell_type": "markdown",
      "metadata": {
        "id": "UkSI7_AFjBkK",
        "colab_type": "text"
      },
      "source": [
        "## Restart Runtime\n",
        "This is done to ensure the installed dependencies and game are loaded."
      ]
    },
    {
      "cell_type": "code",
      "metadata": {
        "id": "o-lOzFLIetQL",
        "colab_type": "code",
        "colab": {}
      },
      "source": [
        "import os\n",
        "\n",
        "def restart_runtime():\n",
        "  os.kill(os.getpid(), 9)\n",
        "  \n",
        "restart_runtime()"
      ],
      "execution_count": 0,
      "outputs": []
    },
    {
      "cell_type": "code",
      "metadata": {
        "id": "b2L7RqC354c0",
        "colab_type": "code",
        "colab": {}
      },
      "source": [
        "import os\n",
        "import numpy as np\n",
        "import random\n",
        "from tqdm import tqdm\n",
        "import gym\n",
        "import time\n",
        "import copy\n",
        "import matplotlib.pyplot as plt\n",
        "import argparse\n",
        "from collections import namedtuple\n",
        "\n",
        "import torch\n",
        "import torch.tensor as Tensor\n",
        "import torch.nn as nn\n",
        "import torch.nn.functional as F\n",
        "import torch.optim as optim\n",
        "\n",
        "from scipy.special import softmax\n",
        "\n",
        "import logging\n",
        "logging.propagate = False \n",
        "logging.getLogger().setLevel(logging.ERROR)\n",
        "\n",
        "import wandb\n",
        "\n",
        "%matplotlib inline"
      ],
      "execution_count": 0,
      "outputs": []
    },
    {
      "cell_type": "code",
      "metadata": {
        "id": "mZtzTt-7M0xg",
        "colab_type": "code",
        "outputId": "5e5db2a1-7cc0-4965-8bd6-aa121f4a514a",
        "colab": {
          "base_uri": "https://localhost:8080/",
          "height": 105
        }
      },
      "source": [
        "# WandB – Login to your wandb account so you can log all your metrics\n",
        "!wandb login"
      ],
      "execution_count": 0,
      "outputs": [
        {
          "output_type": "stream",
          "text": [
            "\u001b[34m\u001b[1mwandb\u001b[0m: You can find your API key in your browser here: https://app.wandb.ai/authorize\n",
            "\u001b[34m\u001b[1mwandb\u001b[0m: Paste an API key from your profile and hit enter: fd1a686e3fb538374e472fc536037d249adef19f\n",
            "\u001b[34m\u001b[1mwandb\u001b[0m: Appending key for api.wandb.ai to your netrc file: /root/.netrc\n",
            "\u001b[32mSuccessfully logged in to Weights & Biases!\u001b[0m\n"
          ],
          "name": "stdout"
        }
      ]
    },
    {
      "cell_type": "code",
      "metadata": {
        "id": "U9BCX4Bj54c5",
        "colab_type": "code",
        "colab": {}
      },
      "source": [
        "class MLP(nn.Module):\n",
        "    def __init__(self):\n",
        "        super(MLP, self).__init__()\n",
        "        self.fc1 = nn.Linear(env.observation_space.shape[0], 64)\n",
        "        self.fc2 = nn.Linear(64, 32)\n",
        "        self.fc3 = nn.Linear(32, env.action_space.n)\n",
        "            \n",
        "    def forward(self, x, softmax=False):\n",
        "        x = F.relu(self.fc1(x))\n",
        "        x = F.relu(self.fc2(x))\n",
        "        x = self.fc3(x)\n",
        "        if softmax:\n",
        "          return F.softmax(x)\n",
        "        else:\n",
        "          return x"
      ],
      "execution_count": 0,
      "outputs": []
    },
    {
      "cell_type": "code",
      "metadata": {
        "id": "8ipkVwob54c8",
        "colab_type": "code",
        "colab": {}
      },
      "source": [
        "Transition = namedtuple('Transition', ('state', 'action', 'reward', 'next_state', 'done'))\n",
        "\n",
        "class ReplayBuffer():\n",
        "    def __init__(self, size):\n",
        "        self.size = size\n",
        "        self.buffer = []\n",
        "        self.index = 0\n",
        "        \n",
        "    def fill_buffer(self):\n",
        "        obs = env.reset()\n",
        "        done = False\n",
        "        for trans in tqdm(range(0, self.size)):\n",
        "            action = env.action_space.sample()\n",
        "            new_obs, reward, done, _ = env.step(action)\n",
        "            self.buffer.append(Transition(obs, action, reward, new_obs, done))\n",
        "            if done:\n",
        "                obs = env.reset()\n",
        "                done = False\n",
        "            else:\n",
        "                obs = new_obs\n",
        "    \n",
        "    def store_filled(self, trans):\n",
        "        self.index = (self.index + 1) % self.size\n",
        "        self.buffer[self.index] = Transition(trans[0], trans[1], trans[2], trans[3], trans[4])\n",
        "        \n",
        "    def store(self, trans):\n",
        "        if (self.index + 1) % self.size:\n",
        "            self.buffer.append(Transition(trans[0], trans[1], trans[2], trans[3], trans[4]))\n",
        "            self.index += 1\n",
        "        else:\n",
        "            self.store_filled(trans)\n",
        "        \n",
        "    def sample(self, batch=64):\n",
        "        return random.sample(self.buffer, k=batch)"
      ],
      "execution_count": 0,
      "outputs": []
    },
    {
      "cell_type": "code",
      "metadata": {
        "id": "B6zEGye-54dF",
        "colab_type": "code",
        "colab": {}
      },
      "source": [
        "def get_action(obs):\n",
        "    if np.random.rand() < epsilon:\n",
        "        return env.action_space.sample()\n",
        "    else:\n",
        "        return torch.argmax(get_current_value(obs)).item()\n",
        "    \n",
        "def get_target_value(obs):\n",
        "    return target.forward(torch.from_numpy(obs).float().unsqueeze(0).to(gpu)).detach()\n",
        "\n",
        "def get_current_value(obs):\n",
        "    return value.forward(torch.from_numpy(obs).float().unsqueeze(0).to(gpu))\n",
        "\n",
        "def get_softmax(obs):\n",
        "  return value.forward(torch.from_numpy(obs).float().unsqueeze(0).to(gpu), softmax=True).detach()"
      ],
      "execution_count": 0,
      "outputs": []
    },
    {
      "cell_type": "code",
      "metadata": {
        "id": "MfUTaY0rObsg",
        "colab_type": "code",
        "colab": {}
      },
      "source": [
        "env = gym.make('CartPole-v0')\n",
        "buffer = ReplayBuffer(10000)\n",
        "# buffer.fill_buffer()"
      ],
      "execution_count": 0,
      "outputs": []
    },
    {
      "cell_type": "code",
      "metadata": {
        "id": "qKpFBYW154c-",
        "colab_type": "code",
        "outputId": "7f665d6f-c9eb-43ad-f9dc-256e0387a9cd",
        "colab": {
          "base_uri": "https://localhost:8080/",
          "height": 139
        }
      },
      "source": [
        "wandb.init(entity=\"agkhalil\", project=\"pytorch-dqn-cartpole\")\n",
        "wandb.watch_called = False\n",
        "\n",
        "config = wandb.config\n",
        "config.batch_size = 64\n",
        "config.episodes = 10000\n",
        "config.lr = 1e-4\n",
        "config.seed = 42\n",
        "config.epsilon = 1\n",
        "config.update_target = 500\n",
        "config.gamma = 0.9\n",
        "config.eps_start = 0.9\n",
        "config.eps_end = 0.05\n",
        "config.eps_decay = 0.999\n",
        "\n",
        "gpu = torch.device('cuda:0')\n",
        "torch.manual_seed(config.seed)\n",
        "learning_rate = config.lr\n",
        "batch_size = config.batch_size\n",
        "value = MLP().to(gpu)\n",
        "target = MLP().to(gpu)\n",
        "optimizer = optim.Adam(value.parameters(), lr=learning_rate)\n",
        "loss_fn = torch.nn.MSELoss()\n",
        "\n",
        "EPISODES = config.episodes\n",
        "update_target = config.update_target\n",
        "epsilon = config.epsilon\n",
        "gamma = config.gamma\n",
        "eps_decay = config.eps_decay\n",
        "eps_end = config.eps_end\n",
        "rewards = []\n",
        "\n",
        "wandb.watch(value, log=\"all\")\n",
        "\n",
        "for episode in tqdm(range(0, EPISODES)):\n",
        "    obs = env.reset()\n",
        "    done = False\n",
        "    step = 0\n",
        "    while not done:\n",
        "        action = get_action(obs)\n",
        "        new_obs, reward, done, _ = env.step(action)\n",
        "        buffer.store((obs, action, torch.tensor(reward).to(gpu), new_obs, done))\n",
        "        step += 1\n",
        "        obs = new_obs\n",
        "\n",
        "    if len(buffer.buffer) > batch_size:\n",
        "        optimizer.zero_grad()\n",
        "        minibatch = buffer.sample()\n",
        "        next_qs = [i.reward if i.done else i.reward + gamma * get_target_value(i.next_state).max() for i in minibatch]\n",
        "        current_qs = [get_current_value(i.state).squeeze(0)[i.action] for i in minibatch]\n",
        "        current_qs_softmax = [get_softmax(i.state).squeeze(0) for i in minibatch]\n",
        "        current_qs_entropy = -np.sum(current_qs_softmax * np.log(current_qs_softmax)).cpu()\n",
        "        current_qs_entropy = current_qs_entropy[0] + current_qs_entropy[1]\n",
        "        next_qs = torch.stack(next_qs)\n",
        "        current_qs = torch.stack(current_qs)\n",
        "        next_qs.to(gpu)\n",
        "        current_qs.to(gpu)\n",
        "        loss = loss_fn(current_qs, next_qs)\n",
        "        loss.backward()\n",
        "        optimizer.step()\n",
        "        rewards.append(step)\n",
        "        epsilon = max(epsilon*eps_decay,eps_end)\n",
        "        wandb.log({\n",
        "            \"Episode reward\": step,\n",
        "            \"Epsilon\": epsilon,\n",
        "            \"Loss\": loss,\n",
        "            \"Sum of entropy over batch Q-values\": current_qs_entropy\n",
        "            }, step=episode)\n",
        "\n",
        "    if episode % update_target == 0:\n",
        "        target.load_state_dict(value.state_dict())\n",
        "\n",
        "# torch.save(value.state_dict(), \"model.h5\")\n",
        "# wandb.save('model.h5')"
      ],
      "execution_count": 0,
      "outputs": [
        {
          "output_type": "display_data",
          "data": {
            "text/html": [
              "\n",
              "                Logging results to <a href=\"https://wandb.com\" target=\"_blank\">Weights & Biases</a> <a href=\"https://docs.wandb.com/integrations/jupyter.html\" target=\"_blank\">(Documentation)</a>.<br/>\n",
              "                Project page: <a href=\"https://app.wandb.ai/agkhalil/pytorch-dqn-cartpole\" target=\"_blank\">https://app.wandb.ai/agkhalil/pytorch-dqn-cartpole</a><br/>\n",
              "                Run page: <a href=\"https://app.wandb.ai/agkhalil/pytorch-dqn-cartpole/runs/golsd3en\" target=\"_blank\">https://app.wandb.ai/agkhalil/pytorch-dqn-cartpole/runs/golsd3en</a><br/>\n",
              "            "
            ],
            "text/plain": [
              "<IPython.core.display.HTML object>"
            ]
          },
          "metadata": {
            "tags": []
          }
        },
        {
          "output_type": "stream",
          "text": [
            "\r  0%|          | 0/10000 [00:00<?, ?it/s]/usr/local/lib/python3.6/dist-packages/ipykernel_launcher.py:13: UserWarning: Implicit dimension choice for softmax has been deprecated. Change the call to include dim=X as an argument.\n",
            "  del sys.path[0]\n",
            "100%|██████████| 10000/10000 [22:28<00:00,  5.90it/s]\n"
          ],
          "name": "stderr"
        }
      ]
    },
    {
      "cell_type": "code",
      "metadata": {
        "id": "v4wwTJJN54d5",
        "colab_type": "code",
        "outputId": "ef11c6c6-d043-4e41-eed9-04c729a2f3ba",
        "colab": {
          "base_uri": "https://localhost:8080/",
          "height": 51
        }
      },
      "source": [
        "tot_per = []\n",
        "epsilon = 0\n",
        "\n",
        "for ep in tqdm(range(0, 100)):\n",
        "    done = False\n",
        "    obs = env.reset()\n",
        "    tot_rew = 0\n",
        "    while not done:\n",
        "        act = get_action(obs)\n",
        "        obs, rew, done, _ = env.step(act)\n",
        "        tot_rew += rew\n",
        "#         env.render()\n",
        "    tot_per.append(tot_rew)\n",
        "np.mean(tot_per)"
      ],
      "execution_count": 0,
      "outputs": [
        {
          "output_type": "stream",
          "text": [
            "100%|██████████| 100/100 [00:06<00:00, 13.78it/s]\n"
          ],
          "name": "stderr"
        },
        {
          "output_type": "execute_result",
          "data": {
            "text/plain": [
              "199.11"
            ]
          },
          "metadata": {
            "tags": []
          },
          "execution_count": 17
        }
      ]
    },
    {
      "cell_type": "code",
      "metadata": {
        "id": "aEQ1uRQCdaVO",
        "colab_type": "code",
        "colab": {}
      },
      "source": [
        ""
      ],
      "execution_count": 0,
      "outputs": []
    }
  ]
}